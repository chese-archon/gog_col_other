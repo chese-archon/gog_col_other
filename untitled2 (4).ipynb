{
  "nbformat": 4,
  "nbformat_minor": 0,
  "metadata": {
    "colab": {
      "provenance": []
    },
    "kernelspec": {
      "name": "python3",
      "display_name": "Python 3"
    },
    "language_info": {
      "name": "python"
    }
  },
  "cells": [
    {
      "cell_type": "code",
      "execution_count": 48,
      "metadata": {
        "id": "sIrRAMGuqShB"
      },
      "outputs": [],
      "source": [
        "import numpy as np\n",
        "from matplotlib import pyplot as plt"
      ]
    },
    {
      "cell_type": "code",
      "source": [
        "pi = 3.14159\n",
        "c = 3E8\n",
        "yd = 1.5E13\n",
        "wp = 1e16\n",
        "w0 = 1e18\n",
        "pi, c, yd, wp, w0"
      ],
      "metadata": {
        "id": "0CjA1iD0uFJx",
        "colab": {
          "base_uri": "https://localhost:8080/"
        },
        "outputId": "9bed34d0-01c2-477f-ed60-92833aa62083"
      },
      "execution_count": 42,
      "outputs": [
        {
          "output_type": "execute_result",
          "data": {
            "text/plain": [
              "(3.14159, 300000000.0, 15000000000000.0, 1e+16, 1e+18)"
            ]
          },
          "metadata": {},
          "execution_count": 42
        }
      ]
    },
    {
      "cell_type": "code",
      "source": [
        "lrmin = 1E-11\n",
        "lrmax = 1E-8\n",
        "lR = np.linspace(lrmin, lrmax, 10)"
      ],
      "metadata": {
        "id": "ehTzG9WPrbJi"
      },
      "execution_count": 43,
      "outputs": []
    },
    {
      "cell_type": "code",
      "source": [
        "luv = np.linspace(2E-8, 400E-9, 10)\n",
        "lvis = np.linspace(420E-9, 750E-9, 10)\n",
        "lnir = np.linspace(800E-9, 1.5E-6, 10)\n",
        "lmir = np.linspace(1.55E-6, 5E-6, 10)\n",
        "lfir = np.linspace(5E-6, 20E-6, 10)\n",
        "lter = np.linspace(21E-6, 100E-6, 10)\n",
        "lmic = np.linspace(110E-6, 990E-6, 10)\n",
        "lmil = np.linspace(1E-3, 10E-3, 10)"
      ],
      "metadata": {
        "id": "gtxsF1MBqzVQ"
      },
      "execution_count": 44,
      "outputs": []
    },
    {
      "cell_type": "code",
      "source": [
        "L = np.concatenate((lR, luv, lvis, lnir, lmir, lfir, lter, lmic, lmil), axis=None)#np.array([lR, luv, lvis, lnir, lmir, lfir, lter, lmic, lmil])\n",
        "w = np.divide((2 * pi * c), L)\n",
        "#true size of w, L\n",
        "#w.size, w\n",
        "#w, L\n",
        "L"
      ],
      "metadata": {
        "id": "-Q4sfsHVqzgZ",
        "colab": {
          "base_uri": "https://localhost:8080/"
        },
        "outputId": "16557002-6be7-420c-df9f-68033e7f2ab8"
      },
      "execution_count": 45,
      "outputs": [
        {
          "output_type": "execute_result",
          "data": {
            "text/plain": [
              "array([1.00000000e-11, 1.12000000e-09, 2.23000000e-09, 3.34000000e-09,\n",
              "       4.45000000e-09, 5.56000000e-09, 6.67000000e-09, 7.78000000e-09,\n",
              "       8.89000000e-09, 1.00000000e-08, 2.00000000e-08, 6.22222222e-08,\n",
              "       1.04444444e-07, 1.46666667e-07, 1.88888889e-07, 2.31111111e-07,\n",
              "       2.73333333e-07, 3.15555556e-07, 3.57777778e-07, 4.00000000e-07,\n",
              "       4.20000000e-07, 4.56666667e-07, 4.93333333e-07, 5.30000000e-07,\n",
              "       5.66666667e-07, 6.03333333e-07, 6.40000000e-07, 6.76666667e-07,\n",
              "       7.13333333e-07, 7.50000000e-07, 8.00000000e-07, 8.77777778e-07,\n",
              "       9.55555556e-07, 1.03333333e-06, 1.11111111e-06, 1.18888889e-06,\n",
              "       1.26666667e-06, 1.34444444e-06, 1.42222222e-06, 1.50000000e-06,\n",
              "       1.55000000e-06, 1.93333333e-06, 2.31666667e-06, 2.70000000e-06,\n",
              "       3.08333333e-06, 3.46666667e-06, 3.85000000e-06, 4.23333333e-06,\n",
              "       4.61666667e-06, 5.00000000e-06, 5.00000000e-06, 6.66666667e-06,\n",
              "       8.33333333e-06, 1.00000000e-05, 1.16666667e-05, 1.33333333e-05,\n",
              "       1.50000000e-05, 1.66666667e-05, 1.83333333e-05, 2.00000000e-05,\n",
              "       2.10000000e-05, 2.97777778e-05, 3.85555556e-05, 4.73333333e-05,\n",
              "       5.61111111e-05, 6.48888889e-05, 7.36666667e-05, 8.24444444e-05,\n",
              "       9.12222222e-05, 1.00000000e-04, 1.10000000e-04, 2.07777778e-04,\n",
              "       3.05555556e-04, 4.03333333e-04, 5.01111111e-04, 5.98888889e-04,\n",
              "       6.96666667e-04, 7.94444444e-04, 8.92222222e-04, 9.90000000e-04,\n",
              "       1.00000000e-03, 2.00000000e-03, 3.00000000e-03, 4.00000000e-03,\n",
              "       5.00000000e-03, 6.00000000e-03, 7.00000000e-03, 8.00000000e-03,\n",
              "       9.00000000e-03, 1.00000000e-02])"
            ]
          },
          "metadata": {},
          "execution_count": 45
        }
      ]
    },
    {
      "cell_type": "code",
      "source": [
        "def fuking_shit(x):\n",
        "  return 1+(wp**2)*((w0**2)*(x**2))/((((w0**2)-(x**2))**2)+((x**2)*(yd**2)))\n",
        "my_func = np.vectorize(fuking_shit)\n",
        "n = my_func(w)\n",
        "n"
      ],
      "metadata": {
        "colab": {
          "base_uri": "https://localhost:8080/"
        },
        "id": "JmFB-6Yzqzl1",
        "outputId": "1e78ab5e-92da-4fef-e6cc-ba509e9609a1"
      },
      "execution_count": 46,
      "outputs": [
        {
          "output_type": "execute_result",
          "data": {
            "text/plain": [
              "array([2.81464051e+27, 8.43511993e+31, 8.76450260e+32, 6.85766170e+31,\n",
              "       2.66467524e+31, 1.46724115e+31, 9.43290778e+30, 6.62501288e+30,\n",
              "       4.92892491e+30, 3.81965845e+30, 9.04255888e+29, 9.19407337e+28,\n",
              "       3.25922076e+28, 1.65227430e+28, 9.96036355e+27, 6.65300183e+27,\n",
              "       4.75617281e+27, 3.56846010e+27, 2.77586856e+27, 2.22075587e+27,\n",
              "       2.01428272e+27, 1.70379636e+27, 1.45993416e+27, 1.26491330e+27,\n",
              "       1.10651114e+27, 9.76102332e+26, 8.67459283e+26, 7.75994577e+26,\n",
              "       6.98268644e+26, 6.31661594e+26, 5.55170474e+26, 4.61143779e+26,\n",
              "       3.89128472e+26, 3.32754184e+26, 2.87798835e+26, 2.51374465e+26,\n",
              "       2.21451564e+26, 1.96570118e+26, 1.75658074e+26, 1.57913902e+26,\n",
              "       1.47890202e+26, 9.50580411e+25, 6.62025911e+25, 4.87387523e+25,\n",
              "       3.73732513e+25, 2.95649807e+25, 2.39706749e+25, 1.98260753e+25,\n",
              "       1.66703462e+25, 1.42122104e+25, 1.42122104e+25, 7.99436734e+24,\n",
              "       5.11639480e+24, 3.55305183e+24, 2.61040538e+24, 1.99859159e+24,\n",
              "       1.57913409e+24, 1.27909860e+24, 1.05710628e+24, 8.88262911e+23,\n",
              "       8.05680644e+23, 4.00697790e+23, 2.39016336e+23, 1.58586909e+23,\n",
              "       1.12850575e+23, 8.43841418e+22, 6.54725830e+22, 5.22731560e+22,\n",
              "       4.26972808e+22, 3.55305158e+22, 2.93640627e+22, 8.23006601e+21,\n",
              "       3.80558252e+21, 2.18410383e+21, 1.41492509e+21, 9.90624355e+20,\n",
              "       7.32068044e+20, 5.62955994e+20, 4.46329344e+20, 3.62519292e+20,\n",
              "       3.55305158e+20, 8.88262896e+19, 3.94783509e+19, 2.22065724e+19,\n",
              "       1.42122063e+19, 9.86958773e+18, 7.25112568e+18, 5.55164310e+18,\n",
              "       4.38648343e+18, 3.55305158e+18])"
            ]
          },
          "metadata": {},
          "execution_count": 46
        }
      ]
    },
    {
      "cell_type": "code",
      "source": [
        "n.shape"
      ],
      "metadata": {
        "colab": {
          "base_uri": "https://localhost:8080/"
        },
        "id": "GNxrCGBsqzxK",
        "outputId": "24f0fa7e-1374-4c8d-bfcb-f8a78faa0b99"
      },
      "execution_count": 47,
      "outputs": [
        {
          "output_type": "execute_result",
          "data": {
            "text/plain": [
              "(90,)"
            ]
          },
          "metadata": {},
          "execution_count": 47
        }
      ]
    },
    {
      "cell_type": "code",
      "source": [
        "#строим нашу поеботу\n",
        "x = w\n",
        "y = n\n",
        "\n",
        "# Resizing the figure\n",
        "plt.figure(figsize=[7, 5])\n",
        "\n",
        "# Plotting the graph with Log ticks at x and y axis using loglog\n",
        "plt.loglog(x, y, '--r', linewidth=2,\n",
        "           label='f()')\n",
        "plt.title('Наша Хуетень',\n",
        "          fontsize=15)\n",
        "plt.xlabel('log(x)', fontsize=13)\n",
        "plt.ylabel('log(y)', fontsize=13)\n",
        "\n",
        "plt.legend()\n",
        "plt.show()"
      ],
      "metadata": {
        "colab": {
          "base_uri": "https://localhost:8080/",
          "height": 498
        },
        "id": "e4XTjnqeqz0R",
        "outputId": "983535a9-36fe-424c-8e03-638f28d34530"
      },
      "execution_count": 59,
      "outputs": [
        {
          "output_type": "display_data",
          "data": {
            "text/plain": [
              "<Figure size 700x500 with 1 Axes>"
            ],
            "image/png": "[encoded data removed]"
          },
          "metadata": {}
        }
      ]
    },
    {
      "cell_type": "code",
      "source": [
        "w_my_var = np.divide((2 * pi * c), lter)\n",
        "w_my_var"
      ],
      "metadata": {
        "id": "tHAvTWe0qz6K",
        "colab": {
          "base_uri": "https://localhost:8080/"
        },
        "outputId": "9de0180a-c3ff-42e0-db45-2bd2e36bf9ea"
      },
      "execution_count": 60,
      "outputs": [
        {
          "output_type": "execute_result",
          "data": {
            "text/plain": [
              "array([8.97597143e+13, 6.33006940e+13, 4.88892968e+13, 3.98229718e+13,\n",
              "       3.35932396e+13, 2.90489486e+13, 2.55876109e+13, 2.28633235e+13,\n",
              "       2.06633203e+13, 1.88495400e+13])"
            ]
          },
          "metadata": {},
          "execution_count": 60
        }
      ]
    },
    {
      "cell_type": "code",
      "source": [
        "n_my_var = my_func(w_my_var)\n",
        "n_my_var"
      ],
      "metadata": {
        "colab": {
          "base_uri": "https://localhost:8080/"
        },
        "id": "CtAtax3JNV6R",
        "outputId": "ae22d22b-a192-4a56-f747-b4d9572430b8"
      },
      "execution_count": 61,
      "outputs": [
        {
          "output_type": "execute_result",
          "data": {
            "text/plain": [
              "array([8.05680644e+23, 4.00697790e+23, 2.39016336e+23, 1.58586909e+23,\n",
              "       1.12850575e+23, 8.43841418e+22, 6.54725830e+22, 5.22731560e+22,\n",
              "       4.26972808e+22, 3.55305158e+22])"
            ]
          },
          "metadata": {},
          "execution_count": 61
        }
      ]
    },
    {
      "cell_type": "code",
      "source": [
        "#строим my_var\n",
        "x = w_my_var\n",
        "y = n_my_var\n",
        "\n",
        "# Resizing the figure\n",
        "plt.figure(figsize=[7, 5])\n",
        "\n",
        "# Plotting the graph with Log ticks at x and y axis using loglog\n",
        "plt.loglog(x, y, '--r', linewidth=2, label='f()')\n",
        "plt.title('Наша Хуетень',\n",
        "          fontsize=15)\n",
        "plt.xlabel('log(x)', fontsize=13)\n",
        "plt.ylabel('log(y)', fontsize=13)\n",
        "\n",
        "plt.legend()\n",
        "plt.show()"
      ],
      "metadata": {
        "colab": {
          "base_uri": "https://localhost:8080/",
          "height": 495
        },
        "id": "CDStNZ4FNV9T",
        "outputId": "355faa95-d3e0-4a03-9ad1-4d3e052cec97"
      },
      "execution_count": 63,
      "outputs": [
        {
          "output_type": "display_data",
          "data": {
            "text/plain": [
              "<Figure size 700x500 with 1 Axes>"
            ],
            "image/png": "[encoded data removed]"
          },
          "metadata": {}
        }
      ]
    },
    {
      "cell_type": "code",
      "source": [
        "x"
      ],
      "metadata": {
        "colab": {
          "base_uri": "https://localhost:8080/"
        },
        "id": "L2oXtStuNWAG",
        "outputId": "d27e8bea-0228-4f9c-9145-8e99ffda957a"
      },
      "execution_count": 64,
      "outputs": [
        {
          "output_type": "execute_result",
          "data": {
            "text/plain": [
              "array([8.97597143e+13, 6.33006940e+13, 4.88892968e+13, 3.98229718e+13,\n",
              "       3.35932396e+13, 2.90489486e+13, 2.55876109e+13, 2.28633235e+13,\n",
              "       2.06633203e+13, 1.88495400e+13])"
            ]
          },
          "metadata": {},
          "execution_count": 64
        }
      ]
    },
    {
      "cell_type": "code",
      "source": [
        "y"
      ],
      "metadata": {
        "id": "EA1xp7PUmtsf",
        "outputId": "0d159e1a-e1ce-457a-b6cd-0d79b1d888b6",
        "colab": {
          "base_uri": "https://localhost:8080/"
        }
      },
      "execution_count": 65,
      "outputs": [
        {
          "output_type": "execute_result",
          "data": {
            "text/plain": [
              "array([8.05680644e+23, 4.00697790e+23, 2.39016336e+23, 1.58586909e+23,\n",
              "       1.12850575e+23, 8.43841418e+22, 6.54725830e+22, 5.22731560e+22,\n",
              "       4.26972808e+22, 3.55305158e+22])"
            ]
          },
          "metadata": {},
          "execution_count": 65
        }
      ]
    },
    {
      "cell_type": "code",
      "source": [],
      "metadata": {
        "id": "HJ_HC9vLmtwL"
      },
      "execution_count": null,
      "outputs": []
    },
    {
      "cell_type": "code",
      "source": [],
      "metadata": {
        "id": "VOeIy9J4mtyt"
      },
      "execution_count": null,
      "outputs": []
    }
  ]
}