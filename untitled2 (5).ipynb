{
  "nbformat": 4,
  "nbformat_minor": 0,
  "metadata": {
    "colab": {
      "provenance": []
    },
    "kernelspec": {
      "name": "python3",
      "display_name": "Python 3"
    },
    "language_info": {
      "name": "python"
    }
  },
  "cells": [
    {
      "cell_type": "code",
      "execution_count": 1,
      "metadata": {
        "id": "sIrRAMGuqShB"
      },
      "outputs": [],
      "source": [
        "import numpy as np\n",
        "from matplotlib import pyplot as plt"
      ]
    },
    {
      "cell_type": "code",
      "source": [
        "pi = 3.14159\n",
        "c = 3E8\n",
        "yd = 1.5E13\n",
        "wp = 1e16\n",
        "w0 = 1e18"
      ],
      "metadata": {
        "id": "0CjA1iD0uFJx"
      },
      "execution_count": 2,
      "outputs": []
    },
    {
      "cell_type": "code",
      "source": [
        "lrmin = 1E-11\n",
        "lrmax = 1E-8\n",
        "lR = np.linspace(lrmin, lrmax, 10)\n",
        "lR"
      ],
      "metadata": {
        "id": "ehTzG9WPrbJi",
        "colab": {
          "base_uri": "https://localhost:8080/",
          "height": 0
        },
        "outputId": "e53163cd-03a1-472d-82e4-46fa660b0755"
      },
      "execution_count": 12,
      "outputs": [
        {
          "output_type": "execute_result",
          "data": {
            "text/plain": [
              "array([1.00e-11, 1.12e-09, 2.23e-09, 3.34e-09, 4.45e-09, 5.56e-09,\n",
              "       6.67e-09, 7.78e-09, 8.89e-09, 1.00e-08])"
            ]
          },
          "metadata": {},
          "execution_count": 12
        }
      ]
    },
    {
      "cell_type": "code",
      "source": [
        "luv = np.linspace(2E-8, 400E-9, 10)\n",
        "lvis = np.linspace(420E-9, 750E-9, 10)\n",
        "lnir = np.linspace(800E-9, 1.5E-6, 10)\n",
        "lmir = np.linspace(1.55E-6, 5E-6, 10)\n",
        "lfir = np.linspace(5E-6, 20E-6, 10)\n",
        "lter = np.linspace(21E-6, 100E-6, 10)\n",
        "lmic = np.linspace(110E-6, 990E-6, 10)\n",
        "lmil = np.linspace(1E-3, 10E-3, 10)"
      ],
      "metadata": {
        "id": "gtxsF1MBqzVQ"
      },
      "execution_count": 4,
      "outputs": []
    },
    {
      "cell_type": "code",
      "source": [
        "L = np.concatenate((lR, luv, lvis, lnir, lmir, lfir, lter, lmic, lmil), axis=None)#np.array([lR, luv, lvis, lnir, lmir, lfir, lter, lmic, lmil])\n",
        "w = np.divide((2 * pi * c), L)"
      ],
      "metadata": {
        "id": "-Q4sfsHVqzgZ",
        "colab": {
          "base_uri": "https://localhost:8080/",
          "height": 0
        },
        "outputId": "334a2ad8-57e9-4826-ff9c-eae58149d7f1"
      },
      "execution_count": 5,
      "outputs": [
        {
          "output_type": "execute_result",
          "data": {
            "text/plain": [
              "array([1.00000000e-11, 1.12000000e-09, 2.23000000e-09, 3.34000000e-09,\n",
              "       4.45000000e-09, 5.56000000e-09, 6.67000000e-09, 7.78000000e-09,\n",
              "       8.89000000e-09, 1.00000000e-08, 2.00000000e-08, 6.22222222e-08,\n",
              "       1.04444444e-07, 1.46666667e-07, 1.88888889e-07, 2.31111111e-07,\n",
              "       2.73333333e-07, 3.15555556e-07, 3.57777778e-07, 4.00000000e-07,\n",
              "       4.20000000e-07, 4.56666667e-07, 4.93333333e-07, 5.30000000e-07,\n",
              "       5.66666667e-07, 6.03333333e-07, 6.40000000e-07, 6.76666667e-07,\n",
              "       7.13333333e-07, 7.50000000e-07, 8.00000000e-07, 8.77777778e-07,\n",
              "       9.55555556e-07, 1.03333333e-06, 1.11111111e-06, 1.18888889e-06,\n",
              "       1.26666667e-06, 1.34444444e-06, 1.42222222e-06, 1.50000000e-06,\n",
              "       1.55000000e-06, 1.93333333e-06, 2.31666667e-06, 2.70000000e-06,\n",
              "       3.08333333e-06, 3.46666667e-06, 3.85000000e-06, 4.23333333e-06,\n",
              "       4.61666667e-06, 5.00000000e-06, 5.00000000e-06, 6.66666667e-06,\n",
              "       8.33333333e-06, 1.00000000e-05, 1.16666667e-05, 1.33333333e-05,\n",
              "       1.50000000e-05, 1.66666667e-05, 1.83333333e-05, 2.00000000e-05,\n",
              "       2.10000000e-05, 2.97777778e-05, 3.85555556e-05, 4.73333333e-05,\n",
              "       5.61111111e-05, 6.48888889e-05, 7.36666667e-05, 8.24444444e-05,\n",
              "       9.12222222e-05, 1.00000000e-04, 1.10000000e-04, 2.07777778e-04,\n",
              "       3.05555556e-04, 4.03333333e-04, 5.01111111e-04, 5.98888889e-04,\n",
              "       6.96666667e-04, 7.94444444e-04, 8.92222222e-04, 9.90000000e-04,\n",
              "       1.00000000e-03, 2.00000000e-03, 3.00000000e-03, 4.00000000e-03,\n",
              "       5.00000000e-03, 6.00000000e-03, 7.00000000e-03, 8.00000000e-03,\n",
              "       9.00000000e-03, 1.00000000e-02])"
            ]
          },
          "metadata": {},
          "execution_count": 5
        }
      ]
    },
    {
      "cell_type": "code",
      "source": [
        "def func(x):\n",
        "  return 1+(wp**2)*((w0**2)*(x**2))/((((w0**2)-(x**2))**2)+((x**2)*(yd**2)))\n",
        "my_func = np.vectorize(func)\n",
        "n = my_func(w)\n",
        "n"
      ],
      "metadata": {
        "colab": {
          "base_uri": "https://localhost:8080/",
          "height": 0
        },
        "id": "JmFB-6Yzqzl1",
        "outputId": "49af60d1-bb62-4586-aa80-8138f5c10ead"
      },
      "execution_count": 6,
      "outputs": [
        {
          "output_type": "execute_result",
          "data": {
            "text/plain": [
              "array([2.81464051e+27, 8.43511993e+31, 8.76450260e+32, 6.85766170e+31,\n",
              "       2.66467524e+31, 1.46724115e+31, 9.43290778e+30, 6.62501288e+30,\n",
              "       4.92892491e+30, 3.81965845e+30, 9.04255888e+29, 9.19407337e+28,\n",
              "       3.25922076e+28, 1.65227430e+28, 9.96036355e+27, 6.65300183e+27,\n",
              "       4.75617281e+27, 3.56846010e+27, 2.77586856e+27, 2.22075587e+27,\n",
              "       2.01428272e+27, 1.70379636e+27, 1.45993416e+27, 1.26491330e+27,\n",
              "       1.10651114e+27, 9.76102332e+26, 8.67459283e+26, 7.75994577e+26,\n",
              "       6.98268644e+26, 6.31661594e+26, 5.55170474e+26, 4.61143779e+26,\n",
              "       3.89128472e+26, 3.32754184e+26, 2.87798835e+26, 2.51374465e+26,\n",
              "       2.21451564e+26, 1.96570118e+26, 1.75658074e+26, 1.57913902e+26,\n",
              "       1.47890202e+26, 9.50580411e+25, 6.62025911e+25, 4.87387523e+25,\n",
              "       3.73732513e+25, 2.95649807e+25, 2.39706749e+25, 1.98260753e+25,\n",
              "       1.66703462e+25, 1.42122104e+25, 1.42122104e+25, 7.99436734e+24,\n",
              "       5.11639480e+24, 3.55305183e+24, 2.61040538e+24, 1.99859159e+24,\n",
              "       1.57913409e+24, 1.27909860e+24, 1.05710628e+24, 8.88262911e+23,\n",
              "       8.05680644e+23, 4.00697790e+23, 2.39016336e+23, 1.58586909e+23,\n",
              "       1.12850575e+23, 8.43841418e+22, 6.54725830e+22, 5.22731560e+22,\n",
              "       4.26972808e+22, 3.55305158e+22, 2.93640627e+22, 8.23006601e+21,\n",
              "       3.80558252e+21, 2.18410383e+21, 1.41492509e+21, 9.90624355e+20,\n",
              "       7.32068044e+20, 5.62955994e+20, 4.46329344e+20, 3.62519292e+20,\n",
              "       3.55305158e+20, 8.88262896e+19, 3.94783509e+19, 2.22065724e+19,\n",
              "       1.42122063e+19, 9.86958773e+18, 7.25112568e+18, 5.55164310e+18,\n",
              "       4.38648343e+18, 3.55305158e+18])"
            ]
          },
          "metadata": {},
          "execution_count": 6
        }
      ]
    },
    {
      "cell_type": "code",
      "source": [
        "#строим\n",
        "x = w\n",
        "y = n\n",
        "\n",
        "# Resizing the figure\n",
        "plt.figure(figsize=[7, 5])\n",
        "\n",
        "# Plotting the graph with Log ticks at x and y axis using loglog\n",
        "plt.loglog(x, y, '--r', linewidth=2,\n",
        "           label='f()')\n",
        "plt.title('Функция из примера',\n",
        "          fontsize=15)\n",
        "plt.xlabel('log(x)', fontsize=13)\n",
        "plt.ylabel('log(y)', fontsize=13)\n",
        "\n",
        "plt.legend()\n",
        "plt.show()"
      ],
      "metadata": {
        "colab": {
          "base_uri": "https://localhost:8080/",
          "height": 498
        },
        "id": "e4XTjnqeqz0R",
        "outputId": "2e033fb7-8c96-4771-816d-9c0a5c3e26cc"
      },
      "execution_count": 9,
      "outputs": [
        {
          "output_type": "display_data",
          "data": {
            "text/plain": [
              "<Figure size 700x500 with 1 Axes>"
            ],
            "image/png": "[encoded data removed]"
          },
          "metadata": {}
        }
      ]
    },
    {
      "cell_type": "code",
      "source": [
        "# Задание к ЛР1 по ЛАТ\n",
        "# Необходимо\n",
        "\n",
        "# 1. Построить зависимость:\n",
        "\n",
        "# 1) показателя преломления\n",
        "\n",
        "# 2) показателя поглощения\n",
        "\n",
        "# для данного материала в заданном спектральном диапазоне.\n",
        "\n",
        "# 2. Вычислить толщину скин слоя (материал задан, длина волны - центральная из диапазона)"
      ],
      "metadata": {
        "id": "N-Y6zRrgkdQy"
      },
      "execution_count": 34,
      "outputs": []
    },
    {
      "cell_type": "code",
      "source": [
        "pi = 3.14159\n",
        "c = 3E8\n",
        "yd = 1.5E13\n",
        "wp = 1e16\n",
        "w0 = 1e18\n",
        "pi, c, yd, wp, w0"
      ],
      "metadata": {
        "id": "Wg0cNV4iLaaB",
        "colab": {
          "base_uri": "https://localhost:8080/",
          "height": 0
        },
        "outputId": "2224e684-56fd-4d7e-c077-67135086d521"
      },
      "execution_count": 24,
      "outputs": [
        {
          "output_type": "execute_result",
          "data": {
            "text/plain": [
              "(3.14159, 300000000.0, 15000000000000.0, 1e+16, 1e+18)"
            ]
          },
          "metadata": {},
          "execution_count": 24
        }
      ]
    },
    {
      "cell_type": "code",
      "source": [
        "lrmin = 30E-6#терагерцовый диапазон m\n",
        "lrmax = 1E-3\n",
        "lR = np.linspace(lrmin, lrmax, 10)\n",
        "lR"
      ],
      "metadata": {
        "colab": {
          "base_uri": "https://localhost:8080/",
          "height": 0
        },
        "id": "tt0UXN8UXQxa",
        "outputId": "a1e7b5dd-69c8-4883-c480-dd3bc508860f"
      },
      "execution_count": 13,
      "outputs": [
        {
          "output_type": "execute_result",
          "data": {
            "text/plain": [
              "array([3.00000000e-05, 1.37777778e-04, 2.45555556e-04, 3.53333333e-04,\n",
              "       4.61111111e-04, 5.68888889e-04, 6.76666667e-04, 7.84444444e-04,\n",
              "       8.92222222e-04, 1.00000000e-03])"
            ]
          },
          "metadata": {},
          "execution_count": 13
        }
      ]
    },
    {
      "cell_type": "code",
      "source": [
        "w_my_var = np.divide((2 * pi * c), lR)\n",
        "w_my_var"
      ],
      "metadata": {
        "id": "tHAvTWe0qz6K",
        "colab": {
          "base_uri": "https://localhost:8080/",
          "height": 0
        },
        "outputId": "c402df5c-0ac3-45bc-cab7-e103e4b6621b"
      },
      "execution_count": 25,
      "outputs": [
        {
          "output_type": "execute_result",
          "data": {
            "text/plain": [
              "array([6.28318000e+13, 1.36811177e+13, 7.67628326e+12, 5.33477547e+12,\n",
              "       4.08785205e+12, 3.31339570e+12, 2.78564631e+12, 2.40291586e+12,\n",
              "       2.11265081e+12, 1.88495400e+12])"
            ]
          },
          "metadata": {},
          "execution_count": 25
        }
      ]
    },
    {
      "cell_type": "code",
      "source": [
        "n_my_var = my_func(w_my_var)\n",
        "n_my_var"
      ],
      "metadata": {
        "colab": {
          "base_uri": "https://localhost:8080/",
          "height": 0
        },
        "id": "CtAtax3JNV6R",
        "outputId": "9436b14d-be60-40e2-e281-50bf79131c22"
      },
      "execution_count": 26,
      "outputs": [
        {
          "output_type": "execute_result",
          "data": {
            "text/plain": [
              "array([3.94783512e+23, 1.87172983e+22, 5.89253247e+21, 2.84598293e+21,\n",
              "       1.67105344e+21, 1.09785911e+21, 7.75982534e+20, 5.77400465e+20,\n",
              "       4.46329344e+20, 3.55305158e+20])"
            ]
          },
          "metadata": {},
          "execution_count": 26
        }
      ]
    },
    {
      "cell_type": "code",
      "source": [
        "#строим my_var\n",
        "x = w_my_var\n",
        "y = n_my_var\n",
        "\n",
        "# Resizing the figure\n",
        "plt.figure(figsize=[7, 5])\n",
        "\n",
        "# Plotting the graph with Log ticks at x and y axis using loglog\n",
        "plt.loglog(x, y, '--r', linewidth=2, label='f()')\n",
        "plt.title('n(my_var), only THz',\n",
        "          fontsize=15)\n",
        "plt.xlabel('log(x)', fontsize=13)\n",
        "plt.ylabel('log(y)', fontsize=13)\n",
        "\n",
        "plt.legend()\n",
        "plt.show()"
      ],
      "metadata": {
        "colab": {
          "base_uri": "https://localhost:8080/",
          "height": 498
        },
        "id": "CDStNZ4FNV9T",
        "outputId": "531e64d2-5e1c-44c8-a6dc-fa5abc2729de"
      },
      "execution_count": 28,
      "outputs": [
        {
          "output_type": "display_data",
          "data": {
            "text/plain": [
              "<Figure size 700x500 with 1 Axes>"
            ],
            "image/png": "[encoded data removed]"
          },
          "metadata": {}
        }
      ]
    },
    {
      "cell_type": "code",
      "source": [
        "x"
      ],
      "metadata": {
        "colab": {
          "base_uri": "https://localhost:8080/",
          "height": 0
        },
        "id": "L2oXtStuNWAG",
        "outputId": "f44aa419-fc50-49ee-c1bc-1bc43bdb8e79"
      },
      "execution_count": 17,
      "outputs": [
        {
          "output_type": "execute_result",
          "data": {
            "text/plain": [
              "array([6.28318000e+13, 1.36811177e+13, 7.67628326e+12, 5.33477547e+12,\n",
              "       4.08785205e+12, 3.31339570e+12, 2.78564631e+12, 2.40291586e+12,\n",
              "       2.11265081e+12, 1.88495400e+12])"
            ]
          },
          "metadata": {},
          "execution_count": 17
        }
      ]
    },
    {
      "cell_type": "code",
      "source": [
        "y"
      ],
      "metadata": {
        "colab": {
          "base_uri": "https://localhost:8080/",
          "height": 0
        },
        "id": "EA1xp7PUmtsf",
        "outputId": "7dbd067f-a3ea-4163-f04f-a08a0ef6e788"
      },
      "execution_count": 18,
      "outputs": [
        {
          "output_type": "execute_result",
          "data": {
            "text/plain": [
              "array([3.94783512e+23, 1.87172983e+22, 5.89253247e+21, 2.84598293e+21,\n",
              "       1.67105344e+21, 1.09785911e+21, 7.75982534e+20, 5.77400465e+20,\n",
              "       4.46329344e+20, 3.55305158e+20])"
            ]
          },
          "metadata": {},
          "execution_count": 18
        }
      ]
    },
    {
      "cell_type": "code",
      "source": [
        "#kp - коэффициент экстинкции (показатель поглощения) материала\n",
        "#k(w)\n",
        "def func_kp(x):\n",
        "  return (wp**2)*((w0**2)*(x**2))/((((w0**2)-(x**2))**2)+((x**2)*(yd**2)))\n",
        "my_func2 = np.vectorize(func_kp)"
      ],
      "metadata": {
        "id": "HJ_HC9vLmtwL"
      },
      "execution_count": 30,
      "outputs": []
    },
    {
      "cell_type": "code",
      "source": [
        "kp_my_var = my_func2(w_my_var)\n",
        "kp_my_var"
      ],
      "metadata": {
        "id": "VOeIy9J4mtyt",
        "colab": {
          "base_uri": "https://localhost:8080/",
          "height": 0
        },
        "outputId": "a28ff4e7-2dee-41f9-df88-d857f22c43db"
      },
      "execution_count": 31,
      "outputs": [
        {
          "output_type": "execute_result",
          "data": {
            "text/plain": [
              "array([3.94783512e+23, 1.87172983e+22, 5.89253247e+21, 2.84598293e+21,\n",
              "       1.67105344e+21, 1.09785911e+21, 7.75982534e+20, 5.77400465e+20,\n",
              "       4.46329344e+20, 3.55305158e+20])"
            ]
          },
          "metadata": {},
          "execution_count": 31
        }
      ]
    },
    {
      "cell_type": "code",
      "source": [
        "#строим my_var 2\n",
        "x = w_my_var\n",
        "y = n_my_var\n",
        "\n",
        "# Resizing the figure\n",
        "plt.figure(figsize=[7, 5])\n",
        "\n",
        "# Plotting the graph with Log ticks at x and y axis using loglog\n",
        "plt.loglog(x, y, '--r', linewidth=2, label='f()')\n",
        "plt.title('kp(my_var), only THz',\n",
        "          fontsize=15)\n",
        "plt.xlabel('log(x)', fontsize=13)\n",
        "plt.ylabel('log(y)', fontsize=13)\n",
        "\n",
        "plt.legend()\n",
        "plt.show()"
      ],
      "metadata": {
        "colab": {
          "base_uri": "https://localhost:8080/",
          "height": 498
        },
        "id": "qH4HJEy8i0fJ",
        "outputId": "85e9eb19-be4a-4043-e004-0c811d479a7e"
      },
      "execution_count": 32,
      "outputs": [
        {
          "output_type": "display_data",
          "data": {
            "text/plain": [
              "<Figure size 700x500 with 1 Axes>"
            ],
            "image/png": "[encoded data removed]"
          },
          "metadata": {}
        }
      ]
    },
    {
      "cell_type": "code",
      "source": [
        "# 2. Вычислить толщину скин слоя (d) (материал задан, длина волны - центральная из диапазона)\n",
        "kp = 12.5#из методички стр 41, таблица 1 (l = 5,0 мкм)\n",
        "l = np.mean(lR)\n",
        "l"
      ],
      "metadata": {
        "colab": {
          "base_uri": "https://localhost:8080/",
          "height": 0
        },
        "id": "KXlhirpVlNjU",
        "outputId": "6a705dfe-224f-40ff-c223-14fb243c4722"
      },
      "execution_count": 37,
      "outputs": [
        {
          "output_type": "execute_result",
          "data": {
            "text/plain": [
              "0.000515"
            ]
          },
          "metadata": {},
          "execution_count": 37
        }
      ]
    },
    {
      "cell_type": "code",
      "source": [
        "d = l / (4 * pi * kp)\n",
        "d"
      ],
      "metadata": {
        "colab": {
          "base_uri": "https://localhost:8080/",
          "height": 0
        },
        "id": "P4WXwlX1mwhP",
        "outputId": "57dec413-1437-4e39-8f0a-4eb9c8343fd5"
      },
      "execution_count": 38,
      "outputs": [
        {
          "output_type": "execute_result",
          "data": {
            "text/plain": [
              "3.2785945970034284e-06"
            ]
          },
          "metadata": {},
          "execution_count": 38
        }
      ]
    }
  ]
}